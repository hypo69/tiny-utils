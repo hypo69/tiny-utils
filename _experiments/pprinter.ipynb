{
 "cells": [
  {
   "cell_type": "code",
   "execution_count": 1,
   "id": "6c5a8d9f",
   "metadata": {},
   "outputs": [],
   "source": [
    "import header\n",
    "from src.utils import pprint"
   ]
  },
  {
   "cell_type": "code",
   "execution_count": 2,
   "id": "67b273ee",
   "metadata": {},
   "outputs": [
    {
     "name": "stdout",
     "output_type": "stream",
     "text": [
      "{\n",
      "    \"h\": [\n",
      "        \"a\",\n",
      "        \"b\"\n",
      "    ],\n",
      "    \"d\": 1\n",
      "}\n"
     ]
    }
   ],
   "source": [
    "a = {'h':['a','b',],'d':1}\n",
    "#print('a')\n",
    "pprint(a)"
   ]
  },
  {
   "cell_type": "code",
   "execution_count": null,
   "id": "3db593d3",
   "metadata": {},
   "outputs": [],
   "source": []
  }
 ],
 "metadata": {
  "kernelspec": {
   "display_name": "Python 3 (ipykernel)",
   "language": "python",
   "name": "python3"
  },
  "language_info": {
   "codemirror_mode": {
    "name": "ipython",
    "version": 3
   },
   "file_extension": ".py",
   "mimetype": "text/x-python",
   "name": "python",
   "nbconvert_exporter": "python",
   "pygments_lexer": "ipython3",
   "version": "3.11.9"
  }
 },
 "nbformat": 4,
 "nbformat_minor": 5
}
