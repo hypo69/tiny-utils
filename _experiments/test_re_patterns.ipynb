{
 "cells": [
  {
   "cell_type": "code",
   "execution_count": 1,
   "id": "4fcd86f7-5c70-4a56-a1df-c8a8327710cf",
   "metadata": {
    "tags": []
   },
   "outputs": [
    {
     "name": "stdout",
     "output_type": "stream",
     "text": [
      "\u001b[1m\u001b[33m\u001b[32m->INFO\u001b[0m\u001b[1m\u001b[33m 00:06:22 from start: 0:00:00.006507 User {{user_id}} logged in\n",
      "\t\u001b[30mhelpers.logger\u001b[0m\u001b[1m\u001b[33m:\u001b[36m<module>:48\u001b[0m\u001b[1m\u001b[33m\n",
      "\u001b[0m\u001b[1m\u001b[0m\n"
     ]
    },
    {
     "name": "stderr",
     "output_type": "stream",
     "text": [
      "NoneType: None\n"
     ]
    },
    {
     "name": "stdout",
     "output_type": "stream",
     "text": [
      "\u001b[1m\u001b[33m\u001b[32m->INFO\u001b[0m\u001b[1m\u001b[33m 00:06:22 from start: 0:00:00.399223 caller: __init__ file: <attrs generated init hypotez.gs.GlobalSettings>\n",
      "\t\u001b[30mhypotez.gs\u001b[0m\u001b[1m\u001b[33m:\u001b[36m__init__:72\u001b[0m\u001b[1m\u001b[33m\n",
      "\u001b[0m\u001b[1m\u001b[0m\n",
      "\u001b[1m\u001b[33m\u001b[32m->INFO\u001b[0m\u001b[1m\u001b[33m 00:06:22 from start: 0:00:00.431741 caller: __init__ file: <attrs generated init gs.GlobalSettings>\n",
      "\t\u001b[30mgs\u001b[0m\u001b[1m\u001b[33m:\u001b[36m__init__:72\u001b[0m\u001b[1m\u001b[33m\n",
      "\u001b[0m\u001b[1m\u001b[0m\n"
     ]
    }
   ],
   "source": [
    "import sys\n",
    "import os\n",
    "path = os.getcwd()[:os.getcwd().rfind(r'\\hypotez')]\n",
    "sys.path.append(path)  # Добавляю корневую папку в sys.path\n",
    "# ----------------\n",
    "from pathlib import Path\n",
    "import json\n",
    "import re\n",
    "# ----------------\n",
    "from hypotez import tools"
   ]
  },
  {
   "cell_type": "code",
   "execution_count": 2,
   "id": "95effbb4-c5f9-4658-a1bc-4088690c1c08",
   "metadata": {
    "tags": []
   },
   "outputs": [],
   "source": [
    " Ptrns = tools.re_patterns.Ptrn"
   ]
  },
  {
   "cell_type": "code",
   "execution_count": null,
   "id": "53ec2f46-5280-4944-ac20-157246eb0aea",
   "metadata": {},
   "outputs": [],
   "source": []
  },
  {
   "cell_type": "code",
   "execution_count": null,
   "id": "19aa3c76-a033-4a79-aa0a-9260be2dc909",
   "metadata": {},
   "outputs": [],
   "source": []
  },
  {
   "cell_type": "code",
   "execution_count": null,
   "id": "caf77a42-b8d3-43fd-bbc1-4a3ee3ddf156",
   "metadata": {},
   "outputs": [],
   "source": []
  }
 ],
 "metadata": {
  "kernelspec": {
   "display_name": "Python 3 (ipykernel)",
   "language": "python",
   "name": "python3"
  },
  "language_info": {
   "codemirror_mode": {
    "name": "ipython",
    "version": 3
   },
   "file_extension": ".py",
   "mimetype": "text/x-python",
   "name": "python",
   "nbconvert_exporter": "python",
   "pygments_lexer": "ipython3",
   "version": "3.11.3"
  }
 },
 "nbformat": 4,
 "nbformat_minor": 5
}
