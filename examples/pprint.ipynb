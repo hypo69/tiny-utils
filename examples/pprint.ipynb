{
 "cells": [
  {
   "cell_type": "markdown",
   "id": "ade19410-658d-45a4-8884-a94b7c40ae99",
   "metadata": {},
   "source": [
    "## `pprint()` examples"
   ]
  },
  {
   "cell_type": "code",
   "execution_count": null,
   "id": "786f62bb-063d-4bf7-aaa8-f35e068ff993",
   "metadata": {},
   "outputs": [],
   "source": []
  }
 ],
 "metadata": {
  "kernelspec": {
   "display_name": "Python 3 (ipykernel)",
   "language": "python",
   "name": "python3"
  },
  "language_info": {
   "codemirror_mode": {
    "name": "ipython",
    "version": 3
   },
   "file_extension": ".py",
   "mimetype": "text/x-python",
   "name": "python",
   "nbconvert_exporter": "python",
   "pygments_lexer": "ipython3",
   "version": "3.12.6"
  }
 },
 "nbformat": 4,
 "nbformat_minor": 5
}
